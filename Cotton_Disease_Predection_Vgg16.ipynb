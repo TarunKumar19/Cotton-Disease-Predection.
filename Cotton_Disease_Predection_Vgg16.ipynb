{
  "nbformat": 4,
  "nbformat_minor": 0,
  "metadata": {
    "colab": {
      "provenance": [],
      "gpuType": "T4",
      "include_colab_link": true
    },
    "kernelspec": {
      "name": "python3",
      "display_name": "Python 3"
    },
    "language_info": {
      "name": "python"
    },
    "accelerator": "GPU",
    "gpuClass": "standard"
  },
  "cells": [
    {
      "cell_type": "markdown",
      "metadata": {
        "id": "view-in-github",
        "colab_type": "text"
      },
      "source": [
        "<a href=\"https://colab.research.google.com/github/TarunKumar19/Cotton-Disease-Predection./blob/main/Cotton_Disease_Predection_Vgg16.ipynb\" target=\"_parent\"><img src=\"https://colab.research.google.com/assets/colab-badge.svg\" alt=\"Open In Colab\"/></a>"
      ]
    },
    {
      "cell_type": "code",
      "source": [
        "from tensorflow.compat.v1 import ConfigProto\n",
        "from tensorflow.compat.v1 import InteractiveSession\n",
        "\n",
        "config = ConfigProto()\n",
        "config.gpu_options.per_process_gpu_memory_fraction = 0.6\n",
        "config.gpu_options.allow_growth = True\n",
        "session = InteractiveSession(config=config)"
      ],
      "metadata": {
        "id": "C-48Q9mBejnc"
      },
      "execution_count": 31,
      "outputs": []
    },
    {
      "cell_type": "code",
      "source": [
        "# import the libraries as shown below\n",
        "\n",
        "from tensorflow.keras.layers import Input, Lambda, Dense, Flatten\n",
        "from tensorflow.keras.models import Model\n",
        "from keras.applications.vgg16 import VGG16\n",
        "from tensorflow.keras.applications.resnet50 import preprocess_input\n",
        "from tensorflow.keras.preprocessing import image\n",
        "from tensorflow.keras.preprocessing.image import ImageDataGenerator,load_img\n",
        "from tensorflow.keras.models import Sequential\n",
        "import numpy as np\n",
        "from glob import glob\n",
        "#import matplotlib.pyplot as plt"
      ],
      "metadata": {
        "id": "e9sHvfXCAmBb"
      },
      "execution_count": 63,
      "outputs": []
    },
    {
      "cell_type": "code",
      "source": [
        "from google.colab import drive\n",
        "drive.mount('/content/drive')"
      ],
      "metadata": {
        "colab": {
          "base_uri": "https://localhost:8080/"
        },
        "id": "LGuK0EB0WYTG",
        "outputId": "2e51e8a5-6fac-47ad-ca0b-2561ea90dda4"
      },
      "execution_count": 2,
      "outputs": [
        {
          "output_type": "stream",
          "name": "stdout",
          "text": [
            "Mounted at /content/drive\n"
          ]
        }
      ]
    },
    {
      "cell_type": "code",
      "source": [
        "IMAGE_SIZE = [224, 224]\n",
        "\n",
        "train_path = '/content/drive/MyDrive/train'\n",
        "valid_path = '/content/drive/MyDrive/val'"
      ],
      "metadata": {
        "id": "DlzPSJsAAmFG"
      },
      "execution_count": 4,
      "outputs": []
    },
    {
      "cell_type": "code",
      "source": [
        "VGG16 = VGG16(input_shape=IMAGE_SIZE + [3], weights='imagenet', include_top=False)\n",
        "# don't train existing weights\n",
        "for layer in resnet.layers:\n",
        "    layer.trainable = False"
      ],
      "metadata": {
        "id": "eJb_s5JUAmIw",
        "colab": {
          "base_uri": "https://localhost:8080/"
        },
        "outputId": "5c95343a-fed9-4b54-9bcd-325eeefbda04"
      },
      "execution_count": 64,
      "outputs": [
        {
          "output_type": "stream",
          "name": "stdout",
          "text": [
            "Downloading data from https://storage.googleapis.com/tensorflow/keras-applications/vgg16/vgg16_weights_tf_dim_ordering_tf_kernels_notop.h5\n",
            "58889256/58889256 [==============================] - 2s 0us/step\n"
          ]
        }
      ]
    },
    {
      "cell_type": "code",
      "source": [
        "  # useful for getting number of output classes\n",
        "folders = glob('/content/drive/MyDrive/data/train/*')\n",
        "folders"
      ],
      "metadata": {
        "colab": {
          "base_uri": "https://localhost:8080/"
        },
        "id": "iO7WmuioXzXB",
        "outputId": "c55d0191-b632-4654-af69-e378de8642fe"
      },
      "execution_count": 65,
      "outputs": [
        {
          "output_type": "execute_result",
          "data": {
            "text/plain": [
              "['/content/drive/MyDrive/data/train/fresh cotton plant',\n",
              " '/content/drive/MyDrive/data/train/diseased cotton leaf',\n",
              " '/content/drive/MyDrive/data/train/fresh cotton leaf',\n",
              " '/content/drive/MyDrive/data/train/diseased cotton plant']"
            ]
          },
          "metadata": {},
          "execution_count": 65
        }
      ]
    },
    {
      "cell_type": "code",
      "source": [
        "# our layers - you can add more if you want\n",
        "x = Flatten()(VGG16.output)"
      ],
      "metadata": {
        "id": "4fEEeFYDYBbG"
      },
      "execution_count": 66,
      "outputs": []
    },
    {
      "cell_type": "code",
      "source": [
        "prediction = Dense(4, activation='softmax')(x)\n",
        "\n",
        "# create a model object\n",
        "model = Model(inputs=VGG16.input, outputs=prediction)"
      ],
      "metadata": {
        "id": "7gUrBGrLRvRf"
      },
      "execution_count": 67,
      "outputs": []
    },
    {
      "cell_type": "code",
      "source": [
        "# view the structure of the model\n",
        "model.summary()"
      ],
      "metadata": {
        "colab": {
          "base_uri": "https://localhost:8080/"
        },
        "id": "L5YLrPhZ8Esm",
        "outputId": "bc639eb3-135b-466e-ac43-c03c5e024ff8"
      },
      "execution_count": 68,
      "outputs": [
        {
          "output_type": "stream",
          "name": "stdout",
          "text": [
            "Model: \"model_2\"\n",
            "_________________________________________________________________\n",
            " Layer (type)                Output Shape              Param #   \n",
            "=================================================================\n",
            " input_2 (InputLayer)        [(None, 224, 224, 3)]     0         \n",
            "                                                                 \n",
            " block1_conv1 (Conv2D)       (None, 224, 224, 64)      1792      \n",
            "                                                                 \n",
            " block1_conv2 (Conv2D)       (None, 224, 224, 64)      36928     \n",
            "                                                                 \n",
            " block1_pool (MaxPooling2D)  (None, 112, 112, 64)      0         \n",
            "                                                                 \n",
            " block2_conv1 (Conv2D)       (None, 112, 112, 128)     73856     \n",
            "                                                                 \n",
            " block2_conv2 (Conv2D)       (None, 112, 112, 128)     147584    \n",
            "                                                                 \n",
            " block2_pool (MaxPooling2D)  (None, 56, 56, 128)       0         \n",
            "                                                                 \n",
            " block3_conv1 (Conv2D)       (None, 56, 56, 256)       295168    \n",
            "                                                                 \n",
            " block3_conv2 (Conv2D)       (None, 56, 56, 256)       590080    \n",
            "                                                                 \n",
            " block3_conv3 (Conv2D)       (None, 56, 56, 256)       590080    \n",
            "                                                                 \n",
            " block3_pool (MaxPooling2D)  (None, 28, 28, 256)       0         \n",
            "                                                                 \n",
            " block4_conv1 (Conv2D)       (None, 28, 28, 512)       1180160   \n",
            "                                                                 \n",
            " block4_conv2 (Conv2D)       (None, 28, 28, 512)       2359808   \n",
            "                                                                 \n",
            " block4_conv3 (Conv2D)       (None, 28, 28, 512)       2359808   \n",
            "                                                                 \n",
            " block4_pool (MaxPooling2D)  (None, 14, 14, 512)       0         \n",
            "                                                                 \n",
            " block5_conv1 (Conv2D)       (None, 14, 14, 512)       2359808   \n",
            "                                                                 \n",
            " block5_conv2 (Conv2D)       (None, 14, 14, 512)       2359808   \n",
            "                                                                 \n",
            " block5_conv3 (Conv2D)       (None, 14, 14, 512)       2359808   \n",
            "                                                                 \n",
            " block5_pool (MaxPooling2D)  (None, 7, 7, 512)         0         \n",
            "                                                                 \n",
            " flatten_1 (Flatten)         (None, 25088)             0         \n",
            "                                                                 \n",
            " dense_2 (Dense)             (None, 4)                 100356    \n",
            "                                                                 \n",
            "=================================================================\n",
            "Total params: 14,815,044\n",
            "Trainable params: 14,815,044\n",
            "Non-trainable params: 0\n",
            "_________________________________________________________________\n"
          ]
        }
      ]
    },
    {
      "cell_type": "code",
      "source": [
        "# tell the model what cost and optimization method to use\n",
        "model.compile(\n",
        "  loss='categorical_crossentropy',\n",
        "  optimizer='adam',\n",
        "  metrics=['accuracy']\n",
        ")"
      ],
      "metadata": {
        "id": "__P5ST64YmzF"
      },
      "execution_count": 69,
      "outputs": []
    },
    {
      "cell_type": "code",
      "source": [
        "from keras.preprocessing.image import ImageDataGenerator \n",
        "from keras.utils import array_to_img, img_to_array, load_img"
      ],
      "metadata": {
        "id": "mtSJH_8sAmPE"
      },
      "execution_count": 70,
      "outputs": []
    },
    {
      "cell_type": "code",
      "source": [
        "\n",
        "# Use the Image Data Generator to import the images from the dataset\n",
        "from tensorflow.keras.preprocessing.image import ImageDataGenerator\n",
        "\n",
        "train_datagen = ImageDataGenerator(rescale = 1./255,\n",
        "                                   shear_range = 0.2,\n",
        "                                   zoom_range = 0.2,\n",
        "                                   horizontal_flip = True)\n",
        "\n",
        "test_datagen = ImageDataGenerator(rescale = 1./255)"
      ],
      "metadata": {
        "id": "s8KiMF3uAmSZ"
      },
      "execution_count": 71,
      "outputs": []
    },
    {
      "cell_type": "code",
      "source": [
        "# Make sure you provide the same target size as initialied for the image size\n",
        "training_set = train_datagen.flow_from_directory('/content/drive/MyDrive/data/train',\n",
        "                                                 target_size = (224, 224),\n",
        "                                                 batch_size = 32,\n",
        "                                                 class_mode = 'categorical')"
      ],
      "metadata": {
        "colab": {
          "base_uri": "https://localhost:8080/"
        },
        "id": "hjbNm_56J2rs",
        "outputId": "04e720a5-6536-428a-e0ab-12a4e6df1ae3"
      },
      "execution_count": 72,
      "outputs": [
        {
          "output_type": "stream",
          "name": "stdout",
          "text": [
            "Found 1951 images belonging to 4 classes.\n"
          ]
        }
      ]
    },
    {
      "cell_type": "code",
      "source": [
        "test_set = test_datagen.flow_from_directory('/content/drive/MyDrive/data/test',\n",
        "                                            target_size = (224, 224),\n",
        "                                            batch_size = 32,\n",
        "                                            class_mode = 'categorical')"
      ],
      "metadata": {
        "colab": {
          "base_uri": "https://localhost:8080/"
        },
        "id": "nf3wKcnpYxPr",
        "outputId": "8dd2ff10-0447-4cd5-ba7a-6b584777c412"
      },
      "execution_count": 73,
      "outputs": [
        {
          "output_type": "stream",
          "name": "stdout",
          "text": [
            "Found 18 images belonging to 4 classes.\n"
          ]
        }
      ]
    },
    {
      "cell_type": "code",
      "source": [
        "# fit the model\n",
        "# Run the cell. It will take some time to execute\n",
        "history=model.fit(training_set,validation_data=test_set,epochs=20,steps_per_epoch=len(training_set),validation_steps=len(test_set))"
      ],
      "metadata": {
        "colab": {
          "base_uri": "https://localhost:8080/"
        },
        "id": "IMHBktq9KAGM",
        "outputId": "71bfb76e-03c3-4257-bcbe-1c484221773f"
      },
      "execution_count": 74,
      "outputs": [
        {
          "output_type": "stream",
          "name": "stdout",
          "text": [
            "Epoch 1/20\n",
            "61/61 [==============================] - 88s 1s/step - loss: 1.4749 - accuracy: 0.3849 - val_loss: 1.4156 - val_accuracy: 0.2778\n",
            "Epoch 2/20\n",
            "61/61 [==============================] - 49s 805ms/step - loss: 1.3332 - accuracy: 0.4177 - val_loss: 1.3839 - val_accuracy: 0.2778\n",
            "Epoch 3/20\n",
            "61/61 [==============================] - 48s 788ms/step - loss: 1.3234 - accuracy: 0.4177 - val_loss: 1.3824 - val_accuracy: 0.2778\n",
            "Epoch 4/20\n",
            "61/61 [==============================] - 50s 816ms/step - loss: 1.2474 - accuracy: 0.4608 - val_loss: 1.1129 - val_accuracy: 0.5000\n",
            "Epoch 5/20\n",
            "61/61 [==============================] - 49s 793ms/step - loss: 1.0258 - accuracy: 0.5448 - val_loss: 1.0838 - val_accuracy: 0.5000\n",
            "Epoch 6/20\n",
            "61/61 [==============================] - 48s 779ms/step - loss: 0.8749 - accuracy: 0.6181 - val_loss: 0.8327 - val_accuracy: 0.6667\n",
            "Epoch 7/20\n",
            "61/61 [==============================] - 49s 803ms/step - loss: 0.7852 - accuracy: 0.6602 - val_loss: 0.4184 - val_accuracy: 0.7778\n",
            "Epoch 8/20\n",
            "61/61 [==============================] - 48s 786ms/step - loss: 0.7274 - accuracy: 0.7043 - val_loss: 0.7240 - val_accuracy: 0.6111\n",
            "Epoch 9/20\n",
            "61/61 [==============================] - 49s 809ms/step - loss: 0.7054 - accuracy: 0.7094 - val_loss: 0.6044 - val_accuracy: 0.6111\n",
            "Epoch 10/20\n",
            "61/61 [==============================] - 48s 782ms/step - loss: 0.6345 - accuracy: 0.7555 - val_loss: 0.4232 - val_accuracy: 0.8333\n",
            "Epoch 11/20\n",
            "61/61 [==============================] - 49s 793ms/step - loss: 0.5374 - accuracy: 0.7827 - val_loss: 0.3664 - val_accuracy: 0.7778\n",
            "Epoch 12/20\n",
            "61/61 [==============================] - 47s 762ms/step - loss: 0.5015 - accuracy: 0.7955 - val_loss: 0.2874 - val_accuracy: 1.0000\n",
            "Epoch 13/20\n",
            "61/61 [==============================] - 48s 775ms/step - loss: 0.4680 - accuracy: 0.8165 - val_loss: 0.4313 - val_accuracy: 0.7778\n",
            "Epoch 14/20\n",
            "61/61 [==============================] - 48s 782ms/step - loss: 0.4242 - accuracy: 0.8309 - val_loss: 0.5083 - val_accuracy: 0.7778\n",
            "Epoch 15/20\n",
            "61/61 [==============================] - 48s 772ms/step - loss: 0.4160 - accuracy: 0.8432 - val_loss: 0.4649 - val_accuracy: 0.7778\n",
            "Epoch 16/20\n",
            "61/61 [==============================] - 49s 793ms/step - loss: 0.3788 - accuracy: 0.8457 - val_loss: 0.2201 - val_accuracy: 0.9444\n",
            "Epoch 17/20\n",
            "61/61 [==============================] - 47s 773ms/step - loss: 0.3942 - accuracy: 0.8508 - val_loss: 0.2417 - val_accuracy: 0.9444\n",
            "Epoch 18/20\n",
            "61/61 [==============================] - 48s 787ms/step - loss: 0.3258 - accuracy: 0.8698 - val_loss: 0.2245 - val_accuracy: 0.9444\n",
            "Epoch 19/20\n",
            "61/61 [==============================] - 48s 790ms/step - loss: 0.3118 - accuracy: 0.8883 - val_loss: 0.5094 - val_accuracy: 0.7778\n",
            "Epoch 20/20\n",
            "61/61 [==============================] - 47s 770ms/step - loss: 0.2930 - accuracy: 0.8913 - val_loss: 0.3907 - val_accuracy: 0.7778\n"
          ]
        }
      ]
    },
    {
      "cell_type": "code",
      "source": [
        "import matplotlib.pyplot as plt"
      ],
      "metadata": {
        "id": "iaeA3Kj_d0Zm"
      },
      "execution_count": 75,
      "outputs": []
    },
    {
      "cell_type": "code",
      "source": [
        "# plot the loss\n",
        "plt.plot(history.history['loss'], label='train loss')\n",
        "plt.plot(history.history['val_loss'], label='val loss')\n",
        "plt.legend()\n",
        "plt.show()\n",
        "plt.savefig('LossVal_loss')\n",
        "\n",
        "# plot the accuracy\n",
        "plt.plot(history.history['accuracy'], label='train acc')\n",
        "plt.plot(history.history['val_accuracy'], label='val acc')\n",
        "plt.legend()\n",
        "plt.show()\n",
        "plt.savefig('AccVal_acc')"
      ],
      "metadata": {
        "colab": {
          "base_uri": "https://localhost:8080/",
          "height": 860
        },
        "id": "AkKX6FGyd0c7",
        "outputId": "744e0ed4-1a53-4093-88d8-97fb4ea271f5"
      },
      "execution_count": 76,
      "outputs": [
        {
          "output_type": "display_data",
          "data": {
            "text/plain": [
              "<Figure size 640x480 with 1 Axes>"
            ],
            "image/png": "[encoded data removed]"
          },
          "metadata": {}
        },
        {
          "output_type": "display_data",
          "data": {
            "text/plain": [
              "<Figure size 640x480 with 1 Axes>"
            ],
            "image/png": "[encoded data removed]"
          },
          "metadata": {}
        },
        {
          "output_type": "display_data",
          "data": {
            "text/plain": [
              "<Figure size 640x480 with 0 Axes>"
            ]
          },
          "metadata": {}
        }
      ]
    },
    {
      "cell_type": "code",
      "source": [
        "# save it as a h5 file\n",
        "\n",
        "\n",
        "from tensorflow.keras.models import load_model\n",
        "\n",
        "model.save('model_resnet50.h5')"
      ],
      "metadata": {
        "id": "ul2VxA6Myy63"
      },
      "execution_count": 77,
      "outputs": []
    },
    {
      "cell_type": "code",
      "source": [
        "y_pred = model.predict(test_set)"
      ],
      "metadata": {
        "id": "FjydTu5Qyy_q",
        "colab": {
          "base_uri": "https://localhost:8080/"
        },
        "outputId": "a1b5824e-9451-4f05-b61a-47ca233f5249"
      },
      "execution_count": 78,
      "outputs": [
        {
          "output_type": "stream",
          "name": "stdout",
          "text": [
            "1/1 [==============================] - 3s 3s/step\n"
          ]
        }
      ]
    },
    {
      "cell_type": "code",
      "source": [
        "import numpy as np\n",
        "y_pred = np.argmax(y_pred, axis=1)"
      ],
      "metadata": {
        "id": "j3-N1VKNwbsR"
      },
      "execution_count": 79,
      "outputs": []
    },
    {
      "cell_type": "code",
      "source": [
        "from tensorflow.keras.models import load_model\n",
        "from tensorflow.keras.preprocessing import image"
      ],
      "metadata": {
        "id": "1FfsyJJ6qD3M"
      },
      "execution_count": 80,
      "outputs": []
    },
    {
      "cell_type": "code",
      "source": [
        "model=load_model('model_resnet50.h5')"
      ],
      "metadata": {
        "id": "VgtuWFR_qD6P"
      },
      "execution_count": 81,
      "outputs": []
    },
    {
      "cell_type": "code",
      "source": [
        "img=image.load_img('/content/drive/MyDrive/data/val/diseased cotton leaf/dis_leaf (100)_iaip.jpg',target_size=(224,224))"
      ],
      "metadata": {
        "id": "d1ioYs-IqD87"
      },
      "execution_count": 82,
      "outputs": []
    },
    {
      "cell_type": "code",
      "source": [
        "x=image.img_to_array(img)\n",
        "x"
      ],
      "metadata": {
        "colab": {
          "base_uri": "https://localhost:8080/"
        },
        "id": "DEtnQ_ZIqD_P",
        "outputId": "1d644460-1e94-4c0b-876f-aa97cda6ead3"
      },
      "execution_count": 83,
      "outputs": [
        {
          "output_type": "execute_result",
          "data": {
            "text/plain": [
              "array([[[175., 233., 157.],\n",
              "        [177., 235., 159.],\n",
              "        [178., 236., 160.],\n",
              "        ...,\n",
              "        [ 74.,  64.,  55.],\n",
              "        [ 69.,  62.,  56.],\n",
              "        [ 69.,  62.,  56.]],\n",
              "\n",
              "       [[177., 235., 159.],\n",
              "        [179., 237., 161.],\n",
              "        [180., 238., 162.],\n",
              "        ...,\n",
              "        [ 69.,  59.,  50.],\n",
              "        [ 60.,  53.,  47.],\n",
              "        [ 59.,  52.,  46.]],\n",
              "\n",
              "       [[178., 236., 160.],\n",
              "        [180., 238., 162.],\n",
              "        [182., 240., 164.],\n",
              "        ...,\n",
              "        [ 65.,  55.,  46.],\n",
              "        [ 59.,  52.,  46.],\n",
              "        [ 59.,  52.,  46.]],\n",
              "\n",
              "       ...,\n",
              "\n",
              "       [[115., 181., 120.],\n",
              "        [109., 175., 114.],\n",
              "        [108., 174., 113.],\n",
              "        ...,\n",
              "        [138., 216., 106.],\n",
              "        [142., 221., 104.],\n",
              "        [142., 221., 104.]],\n",
              "\n",
              "       [[121., 181., 119.],\n",
              "        [116., 176., 114.],\n",
              "        [113., 173., 111.],\n",
              "        ...,\n",
              "        [140., 218., 108.],\n",
              "        [143., 216., 108.],\n",
              "        [145., 218., 110.]],\n",
              "\n",
              "       [[118., 178., 116.],\n",
              "        [117., 177., 115.],\n",
              "        [116., 176., 114.],\n",
              "        ...,\n",
              "        [140., 218., 108.],\n",
              "        [143., 216., 108.],\n",
              "        [145., 218., 110.]]], dtype=float32)"
            ]
          },
          "metadata": {},
          "execution_count": 83
        }
      ]
    },
    {
      "cell_type": "code",
      "source": [
        "x.shape"
      ],
      "metadata": {
        "colab": {
          "base_uri": "https://localhost:8080/"
        },
        "id": "wr6RApg5qEBP",
        "outputId": "abc28cba-687e-4875-fe24-c7f922e997fd"
      },
      "execution_count": 84,
      "outputs": [
        {
          "output_type": "execute_result",
          "data": {
            "text/plain": [
              "(224, 224, 3)"
            ]
          },
          "metadata": {},
          "execution_count": 84
        }
      ]
    },
    {
      "cell_type": "code",
      "source": [
        "x=x/255"
      ],
      "metadata": {
        "id": "T_uX95z7qEFd"
      },
      "execution_count": 85,
      "outputs": []
    },
    {
      "cell_type": "code",
      "source": [
        "import numpy as np\n",
        "x=np.expand_dims(x,axis=0)\n",
        "img_data=preprocess_input(x)\n",
        "img_data.shape"
      ],
      "metadata": {
        "colab": {
          "base_uri": "https://localhost:8080/"
        },
        "id": "wM80Q1nvqEKV",
        "outputId": "9a437fa0-14db-431b-a9ec-c92ab0d3baa4"
      },
      "execution_count": 86,
      "outputs": [
        {
          "output_type": "execute_result",
          "data": {
            "text/plain": [
              "(1, 224, 224, 3)"
            ]
          },
          "metadata": {},
          "execution_count": 86
        }
      ]
    },
    {
      "cell_type": "code",
      "source": [
        "model.predict(img_data)"
      ],
      "metadata": {
        "colab": {
          "base_uri": "https://localhost:8080/"
        },
        "id": "RzomEHQDtByv",
        "outputId": "9068e938-6727-4488-e154-9d32fe665ef3"
      },
      "execution_count": 87,
      "outputs": [
        {
          "output_type": "stream",
          "name": "stdout",
          "text": [
            "1/1 [==============================] - 1s 682ms/step\n"
          ]
        },
        {
          "output_type": "execute_result",
          "data": {
            "text/plain": [
              "array([[0., 0., 0., 1.]], dtype=float32)"
            ]
          },
          "metadata": {},
          "execution_count": 87
        }
      ]
    },
    {
      "cell_type": "code",
      "source": [
        "a=np.argmax(model.predict(img_data), axis=1)\n",
        "a==1"
      ],
      "metadata": {
        "colab": {
          "base_uri": "https://localhost:8080/"
        },
        "id": "IELqnNjutB1Z",
        "outputId": "9cfc1a9f-e30d-4f8f-9785-d52bfca26287"
      },
      "execution_count": 62,
      "outputs": [
        {
          "output_type": "stream",
          "name": "stdout",
          "text": [
            "1/1 [==============================] - 0s 24ms/step\n"
          ]
        },
        {
          "output_type": "execute_result",
          "data": {
            "text/plain": [
              "array([False])"
            ]
          },
          "metadata": {},
          "execution_count": 62
        }
      ]
    },
    {
      "cell_type": "code",
      "source": [
        "import tensorflow as tf\n",
        "tf.__version__"
      ],
      "metadata": {
        "colab": {
          "base_uri": "https://localhost:8080/",
          "height": 36
        },
        "id": "ZgpJNHnLtB4B",
        "outputId": "8480bfe6-2c34-49f5-87e8-754beb769989"
      },
      "execution_count": 53,
      "outputs": [
        {
          "output_type": "execute_result",
          "data": {
            "text/plain": [
              "'2.12.0'"
            ],
            "application/vnd.google.colaboratory.intrinsic+json": {
              "type": "string"
            }
          },
          "metadata": {},
          "execution_count": 53
        }
      ]
    },
    {
      "cell_type": "code",
      "source": [],
      "metadata": {
        "id": "KI2THFe-tB51"
      },
      "execution_count": null,
      "outputs": []
    },
    {
      "cell_type": "code",
      "source": [],
      "metadata": {
        "id": "maKhEyCOtB8i"
      },
      "execution_count": null,
      "outputs": []
    }
  ]
}